{
 "cells": [
  {
   "cell_type": "code",
   "execution_count": 1,
   "metadata": {},
   "outputs": [],
   "source": [
    "import pandas as pd\n",
    "import numpy as np\n",
    "import matplotlib.pyplot as plt"
   ]
  },
  {
   "cell_type": "code",
   "execution_count": 2,
   "metadata": {},
   "outputs": [],
   "source": [
    "df = pd.read_csv(r\"C:\\Users\\Lenovo\\Downloads\\revenue_prediction.csv\")"
   ]
  },
  {
   "cell_type": "code",
   "execution_count": 3,
   "metadata": {},
   "outputs": [
    {
     "data": {
      "text/html": [
       "<div>\n",
       "<style scoped>\n",
       "    .dataframe tbody tr th:only-of-type {\n",
       "        vertical-align: middle;\n",
       "    }\n",
       "\n",
       "    .dataframe tbody tr th {\n",
       "        vertical-align: top;\n",
       "    }\n",
       "\n",
       "    .dataframe thead th {\n",
       "        text-align: right;\n",
       "    }\n",
       "</style>\n",
       "<table border=\"1\" class=\"dataframe\">\n",
       "  <thead>\n",
       "    <tr style=\"text-align: right;\">\n",
       "      <th></th>\n",
       "      <th>Id</th>\n",
       "      <th>Name</th>\n",
       "      <th>Franchise</th>\n",
       "      <th>Category</th>\n",
       "      <th>City</th>\n",
       "      <th>No_Of_Item</th>\n",
       "      <th>Order_Placed</th>\n",
       "      <th>Revenue</th>\n",
       "    </tr>\n",
       "  </thead>\n",
       "  <tbody>\n",
       "    <tr>\n",
       "      <th>0</th>\n",
       "      <td>101</td>\n",
       "      <td>HungryHowie'sPizza</td>\n",
       "      <td>Yes</td>\n",
       "      <td>Mexican</td>\n",
       "      <td>Bengaluru</td>\n",
       "      <td>55</td>\n",
       "      <td>5.5</td>\n",
       "      <td>5953753</td>\n",
       "    </tr>\n",
       "    <tr>\n",
       "      <th>1</th>\n",
       "      <td>102</td>\n",
       "      <td>CharleysPhillySteaks</td>\n",
       "      <td>No</td>\n",
       "      <td>Varied Menu</td>\n",
       "      <td>Gurugram</td>\n",
       "      <td>72</td>\n",
       "      <td>6.8</td>\n",
       "      <td>7223131</td>\n",
       "    </tr>\n",
       "    <tr>\n",
       "      <th>2</th>\n",
       "      <td>103</td>\n",
       "      <td>Chuy's</td>\n",
       "      <td>Yes</td>\n",
       "      <td>Chicken</td>\n",
       "      <td>Pune</td>\n",
       "      <td>25</td>\n",
       "      <td>1.9</td>\n",
       "      <td>2555379</td>\n",
       "    </tr>\n",
       "    <tr>\n",
       "      <th>3</th>\n",
       "      <td>104</td>\n",
       "      <td>O'Charley's</td>\n",
       "      <td>Yes</td>\n",
       "      <td>Italian/Pizza</td>\n",
       "      <td>Mumbai</td>\n",
       "      <td>18</td>\n",
       "      <td>2.5</td>\n",
       "      <td>2175511</td>\n",
       "    </tr>\n",
       "    <tr>\n",
       "      <th>4</th>\n",
       "      <td>105</td>\n",
       "      <td>PolloTropical</td>\n",
       "      <td>Yes</td>\n",
       "      <td>Pizza</td>\n",
       "      <td>Noida</td>\n",
       "      <td>48</td>\n",
       "      <td>4.2</td>\n",
       "      <td>4816715</td>\n",
       "    </tr>\n",
       "    <tr>\n",
       "      <th>...</th>\n",
       "      <td>...</td>\n",
       "      <td>...</td>\n",
       "      <td>...</td>\n",
       "      <td>...</td>\n",
       "      <td>...</td>\n",
       "      <td>...</td>\n",
       "      <td>...</td>\n",
       "      <td>...</td>\n",
       "    </tr>\n",
       "    <tr>\n",
       "      <th>95</th>\n",
       "      <td>196</td>\n",
       "      <td>Wetzel'sPretzels</td>\n",
       "      <td>No</td>\n",
       "      <td>Italian/Pizza</td>\n",
       "      <td>Bengaluru</td>\n",
       "      <td>19</td>\n",
       "      <td>1.1</td>\n",
       "      <td>1270499</td>\n",
       "    </tr>\n",
       "    <tr>\n",
       "      <th>96</th>\n",
       "      <td>197</td>\n",
       "      <td>LaMadeleineCountryFrenchCafe</td>\n",
       "      <td>Yes</td>\n",
       "      <td>Varied Menu</td>\n",
       "      <td>Bengaluru</td>\n",
       "      <td>75</td>\n",
       "      <td>6.3</td>\n",
       "      <td>6412623</td>\n",
       "    </tr>\n",
       "    <tr>\n",
       "      <th>97</th>\n",
       "      <td>198</td>\n",
       "      <td>Giordano's</td>\n",
       "      <td>Yes</td>\n",
       "      <td>Varied Menu</td>\n",
       "      <td>Gurugram</td>\n",
       "      <td>77</td>\n",
       "      <td>6.2</td>\n",
       "      <td>6694797</td>\n",
       "    </tr>\n",
       "    <tr>\n",
       "      <th>98</th>\n",
       "      <td>199</td>\n",
       "      <td>IslandsFineBurgers&amp;Drinks</td>\n",
       "      <td>Yes</td>\n",
       "      <td>Sports Bar</td>\n",
       "      <td>Pune</td>\n",
       "      <td>25</td>\n",
       "      <td>2.1</td>\n",
       "      <td>2344689</td>\n",
       "    </tr>\n",
       "    <tr>\n",
       "      <th>99</th>\n",
       "      <td>200</td>\n",
       "      <td>Mimi'sBistro&amp;Bakery</td>\n",
       "      <td>No</td>\n",
       "      <td>BBQ</td>\n",
       "      <td>Mumbai</td>\n",
       "      <td>50</td>\n",
       "      <td>4.4</td>\n",
       "      <td>4567678</td>\n",
       "    </tr>\n",
       "  </tbody>\n",
       "</table>\n",
       "<p>100 rows × 8 columns</p>\n",
       "</div>"
      ],
      "text/plain": [
       "     Id                          Name Franchise       Category       City  \\\n",
       "0   101            HungryHowie'sPizza       Yes        Mexican  Bengaluru   \n",
       "1   102          CharleysPhillySteaks        No    Varied Menu   Gurugram   \n",
       "2   103                        Chuy's       Yes        Chicken       Pune   \n",
       "3   104                   O'Charley's       Yes  Italian/Pizza     Mumbai   \n",
       "4   105                 PolloTropical       Yes          Pizza      Noida   \n",
       "..  ...                           ...       ...            ...        ...   \n",
       "95  196              Wetzel'sPretzels        No  Italian/Pizza  Bengaluru   \n",
       "96  197  LaMadeleineCountryFrenchCafe       Yes    Varied Menu  Bengaluru   \n",
       "97  198                    Giordano's       Yes    Varied Menu   Gurugram   \n",
       "98  199     IslandsFineBurgers&Drinks       Yes     Sports Bar       Pune   \n",
       "99  200           Mimi'sBistro&Bakery        No            BBQ     Mumbai   \n",
       "\n",
       "    No_Of_Item  Order_Placed  Revenue  \n",
       "0           55           5.5  5953753  \n",
       "1           72           6.8  7223131  \n",
       "2           25           1.9  2555379  \n",
       "3           18           2.5  2175511  \n",
       "4           48           4.2  4816715  \n",
       "..         ...           ...      ...  \n",
       "95          19           1.1  1270499  \n",
       "96          75           6.3  6412623  \n",
       "97          77           6.2  6694797  \n",
       "98          25           2.1  2344689  \n",
       "99          50           4.4  4567678  \n",
       "\n",
       "[100 rows x 8 columns]"
      ]
     },
     "execution_count": 3,
     "metadata": {},
     "output_type": "execute_result"
    }
   ],
   "source": [
    "df"
   ]
  },
  {
   "cell_type": "code",
   "execution_count": 4,
   "metadata": {},
   "outputs": [
    {
     "name": "stdout",
     "output_type": "stream",
     "text": [
      "<class 'pandas.core.frame.DataFrame'>\n",
      "RangeIndex: 100 entries, 0 to 99\n",
      "Data columns (total 8 columns):\n",
      " #   Column        Non-Null Count  Dtype  \n",
      "---  ------        --------------  -----  \n",
      " 0   Id            100 non-null    int64  \n",
      " 1   Name          100 non-null    object \n",
      " 2   Franchise     100 non-null    object \n",
      " 3   Category      100 non-null    object \n",
      " 4   City          100 non-null    object \n",
      " 5   No_Of_Item    100 non-null    int64  \n",
      " 6   Order_Placed  100 non-null    float64\n",
      " 7   Revenue       100 non-null    int64  \n",
      "dtypes: float64(1), int64(3), object(4)\n",
      "memory usage: 6.4+ KB\n"
     ]
    }
   ],
   "source": [
    "df.info()"
   ]
  },
  {
   "cell_type": "code",
   "execution_count": 5,
   "metadata": {},
   "outputs": [
    {
     "data": {
      "text/plain": [
       "Id              0\n",
       "Name            0\n",
       "Franchise       0\n",
       "Category        0\n",
       "City            0\n",
       "No_Of_Item      0\n",
       "Order_Placed    0\n",
       "Revenue         0\n",
       "dtype: int64"
      ]
     },
     "execution_count": 5,
     "metadata": {},
     "output_type": "execute_result"
    }
   ],
   "source": [
    "df.isnull().sum()"
   ]
  },
  {
   "cell_type": "code",
   "execution_count": 6,
   "metadata": {},
   "outputs": [],
   "source": [
    "df=df.drop(columns=[\"Id\",\"Name\",\"Franchise\",\"Category\",\"City\",\"No_Of_Item\"])\n"
   ]
  },
  {
   "cell_type": "code",
   "execution_count": 7,
   "metadata": {},
   "outputs": [
    {
     "data": {
      "text/html": [
       "<div>\n",
       "<style scoped>\n",
       "    .dataframe tbody tr th:only-of-type {\n",
       "        vertical-align: middle;\n",
       "    }\n",
       "\n",
       "    .dataframe tbody tr th {\n",
       "        vertical-align: top;\n",
       "    }\n",
       "\n",
       "    .dataframe thead th {\n",
       "        text-align: right;\n",
       "    }\n",
       "</style>\n",
       "<table border=\"1\" class=\"dataframe\">\n",
       "  <thead>\n",
       "    <tr style=\"text-align: right;\">\n",
       "      <th></th>\n",
       "      <th>Order_Placed</th>\n",
       "      <th>Revenue</th>\n",
       "    </tr>\n",
       "  </thead>\n",
       "  <tbody>\n",
       "    <tr>\n",
       "      <th>0</th>\n",
       "      <td>5.5</td>\n",
       "      <td>5953753</td>\n",
       "    </tr>\n",
       "    <tr>\n",
       "      <th>1</th>\n",
       "      <td>6.8</td>\n",
       "      <td>7223131</td>\n",
       "    </tr>\n",
       "    <tr>\n",
       "      <th>2</th>\n",
       "      <td>1.9</td>\n",
       "      <td>2555379</td>\n",
       "    </tr>\n",
       "    <tr>\n",
       "      <th>3</th>\n",
       "      <td>2.5</td>\n",
       "      <td>2175511</td>\n",
       "    </tr>\n",
       "    <tr>\n",
       "      <th>4</th>\n",
       "      <td>4.2</td>\n",
       "      <td>4816715</td>\n",
       "    </tr>\n",
       "  </tbody>\n",
       "</table>\n",
       "</div>"
      ],
      "text/plain": [
       "   Order_Placed  Revenue\n",
       "0           5.5  5953753\n",
       "1           6.8  7223131\n",
       "2           1.9  2555379\n",
       "3           2.5  2175511\n",
       "4           4.2  4816715"
      ]
     },
     "execution_count": 7,
     "metadata": {},
     "output_type": "execute_result"
    }
   ],
   "source": [
    "df.head()"
   ]
  },
  {
   "cell_type": "code",
   "execution_count": 8,
   "metadata": {},
   "outputs": [
    {
     "data": {
      "text/plain": [
       "(100, 2)"
      ]
     },
     "execution_count": 8,
     "metadata": {},
     "output_type": "execute_result"
    }
   ],
   "source": [
    "df.shape"
   ]
  },
  {
   "cell_type": "code",
   "execution_count": 9,
   "metadata": {},
   "outputs": [],
   "source": [
    "x=df.iloc[:,:-1].values\n",
    "y=df.iloc[:,-1].values  "
   ]
  },
  {
   "cell_type": "code",
   "execution_count": 10,
   "metadata": {},
   "outputs": [
    {
     "data": {
      "text/plain": [
       "array([[ 5.5],\n",
       "       [ 6.8],\n",
       "       [ 1.9],\n",
       "       [ 2.5],\n",
       "       [ 4.2],\n",
       "       [ 4.9],\n",
       "       [ 5. ],\n",
       "       [ 4.3],\n",
       "       [ 4.8],\n",
       "       [ 5.3],\n",
       "       [ 3.6],\n",
       "       [ 5. ],\n",
       "       [ 1.6],\n",
       "       [ 4.7],\n",
       "       [ 1.8],\n",
       "       [ 3.1],\n",
       "       [10.8],\n",
       "       [ 8.1],\n",
       "       [ 5.2],\n",
       "       [ 1.9],\n",
       "       [ 5.4],\n",
       "       [ 1. ],\n",
       "       [ 3.8],\n",
       "       [ 2.8],\n",
       "       [ 8.8],\n",
       "       [ 3.6],\n",
       "       [ 2.1],\n",
       "       [ 5.3],\n",
       "       [ 4.6],\n",
       "       [ 3.3],\n",
       "       [ 2.9],\n",
       "       [ 1.9],\n",
       "       [ 3.1],\n",
       "       [ 2.2],\n",
       "       [ 4. ],\n",
       "       [ 3.6],\n",
       "       [ 2.8],\n",
       "       [ 2.6],\n",
       "       [ 5.3],\n",
       "       [ 3.7],\n",
       "       [ 6.7],\n",
       "       [ 4.4],\n",
       "       [ 4.8],\n",
       "       [ 2.6],\n",
       "       [ 4. ],\n",
       "       [ 3.6],\n",
       "       [ 4.1],\n",
       "       [ 7.7],\n",
       "       [ 7.1],\n",
       "       [ 8.5],\n",
       "       [ 1.9],\n",
       "       [ 3.1],\n",
       "       [ 1.6],\n",
       "       [ 5.4],\n",
       "       [ 4.5],\n",
       "       [ 6.8],\n",
       "       [ 2.1],\n",
       "       [ 3.1],\n",
       "       [ 2.9],\n",
       "       [ 3.4],\n",
       "       [ 3. ],\n",
       "       [ 4.2],\n",
       "       [ 5.1],\n",
       "       [ 1.5],\n",
       "       [ 2.4],\n",
       "       [ 1.6],\n",
       "       [ 1.7],\n",
       "       [ 3.8],\n",
       "       [ 3.6],\n",
       "       [ 3.3],\n",
       "       [ 3.8],\n",
       "       [ 4. ],\n",
       "       [ 2.4],\n",
       "       [ 3.1],\n",
       "       [ 5.1],\n",
       "       [13. ],\n",
       "       [ 4.3],\n",
       "       [ 1.7],\n",
       "       [ 3.5],\n",
       "       [ 6.1],\n",
       "       [ 3.5],\n",
       "       [ 3.9],\n",
       "       [ 3.6],\n",
       "       [ 5.7],\n",
       "       [ 3.9],\n",
       "       [ 7.2],\n",
       "       [ 3.1],\n",
       "       [ 5.8],\n",
       "       [ 1.9],\n",
       "       [ 2.1],\n",
       "       [ 3.3],\n",
       "       [ 1.9],\n",
       "       [ 6.5],\n",
       "       [ 3.3],\n",
       "       [ 3.5],\n",
       "       [ 1.1],\n",
       "       [ 6.3],\n",
       "       [ 6.2],\n",
       "       [ 2.1],\n",
       "       [ 4.4]])"
      ]
     },
     "execution_count": 10,
     "metadata": {},
     "output_type": "execute_result"
    }
   ],
   "source": [
    "x"
   ]
  },
  {
   "cell_type": "code",
   "execution_count": 11,
   "metadata": {},
   "outputs": [],
   "source": [
    "from sklearn.model_selection import train_test_split\n",
    "x_train,x_test,y_train,y_test=train_test_split(x,y,test_size=0.2,random_state=42)"
   ]
  },
  {
   "cell_type": "code",
   "execution_count": 12,
   "metadata": {},
   "outputs": [
    {
     "name": "stdout",
     "output_type": "stream",
     "text": [
      "[[ 6.8]\n",
      " [ 1.9]\n",
      " [ 2.1]\n",
      " [ 4.8]\n",
      " [ 3.3]\n",
      " [ 3.1]\n",
      " [ 6.7]\n",
      " [ 6.3]\n",
      " [ 5.3]\n",
      " [ 2.4]\n",
      " [ 5. ]\n",
      " [ 7.7]\n",
      " [ 7.2]\n",
      " [ 4.6]\n",
      " [ 3.3]\n",
      " [ 4.9]\n",
      " [ 1.7]\n",
      " [ 1.6]\n",
      " [ 3.6]\n",
      " [10.8]\n",
      " [ 8.5]\n",
      " [ 4. ]\n",
      " [ 4.3]\n",
      " [ 1.1]\n",
      " [ 5.3]\n",
      " [ 1.9]\n",
      " [ 3.9]\n",
      " [ 3.6]\n",
      " [ 5.1]\n",
      " [ 4.7]\n",
      " [ 8.8]\n",
      " [ 2.5]\n",
      " [ 8.1]\n",
      " [ 5.3]\n",
      " [ 4.8]\n",
      " [ 3.5]\n",
      " [ 5. ]\n",
      " [ 2.4]\n",
      " [ 2.8]\n",
      " [ 2.1]\n",
      " [ 2.1]\n",
      " [ 4.4]\n",
      " [ 4.5]\n",
      " [ 2.6]\n",
      " [ 1.9]\n",
      " [ 3.8]\n",
      " [ 4.1]\n",
      " [ 3.6]\n",
      " [ 4.2]\n",
      " [ 6.2]\n",
      " [ 6.1]\n",
      " [ 4.4]\n",
      " [ 2.9]\n",
      " [ 7.1]\n",
      " [ 2.1]\n",
      " [ 3.1]\n",
      " [13. ]\n",
      " [ 3.1]\n",
      " [ 3.5]\n",
      " [ 3.4]\n",
      " [ 1.5]\n",
      " [ 3.9]\n",
      " [ 2.6]\n",
      " [ 3.3]\n",
      " [ 6.8]\n",
      " [ 1.6]\n",
      " [ 1. ]\n",
      " [ 1.9]\n",
      " [ 2.8]\n",
      " [ 5.8]\n",
      " [ 1.9]\n",
      " [ 5.1]\n",
      " [ 3.1]\n",
      " [ 3.6]\n",
      " [ 5.4]\n",
      " [ 3. ]\n",
      " [ 4. ]\n",
      " [ 1.8]\n",
      " [ 6.5]\n",
      " [ 3.1]]\n"
     ]
    }
   ],
   "source": [
    "print(x_train)"
   ]
  },
  {
   "cell_type": "code",
   "execution_count": 13,
   "metadata": {},
   "outputs": [
    {
     "name": "stdout",
     "output_type": "stream",
     "text": [
      "[[5.7]\n",
      " [5.4]\n",
      " [3.8]\n",
      " [3.6]\n",
      " [4. ]\n",
      " [3.7]\n",
      " [3.8]\n",
      " [3.5]\n",
      " [3.6]\n",
      " [5.5]\n",
      " [5.2]\n",
      " [2.9]\n",
      " [3.1]\n",
      " [2.2]\n",
      " [3.3]\n",
      " [4.2]\n",
      " [4.3]\n",
      " [1.7]\n",
      " [1.6]\n",
      " [1.9]]\n"
     ]
    }
   ],
   "source": [
    "print(x_test)"
   ]
  },
  {
   "cell_type": "code",
   "execution_count": 14,
   "metadata": {},
   "outputs": [
    {
     "name": "stdout",
     "output_type": "stream",
     "text": [
      "[ 6941173  2025297  2967425  4952255  3452382  3918918  6836483  6412623\n",
      "  4544227  2525375  3861370  7865428  7495092  7705945  3410878  4517319\n",
      "  1882131  1756069  3903884 19696939  8630682  4100886  6491607  1270499\n",
      "  6135276  1521934  4066618  2778621  5286212  5107746  7904084  2175511\n",
      "  7513524  5461700  5152497  3871344  5966635  2551252  3028267  2364478\n",
      "  2390534  4567678  4651866  2732645  2156098  4052733  4250758  3836721\n",
      "  4350573  6694797  6313221  4554237  3004429  7201784  2344689  3258837\n",
      " 16549064  3261924  3753720  3600467  1619683  4250553  2740687  2447890\n",
      "  7223131  1763231   849870  2555379  1999068  5906596  2083447  5500818\n",
      "  3351383  3807496  5025735  3164972  4136425  1099097  6782425  3273041]\n"
     ]
    }
   ],
   "source": [
    "print(y_train)"
   ]
  },
  {
   "cell_type": "code",
   "execution_count": 15,
   "metadata": {},
   "outputs": [
    {
     "name": "stdout",
     "output_type": "stream",
     "text": [
      "[5966193 5595267 3982767 3752885 4264176 3818055 4956086 3727364 3945135\n",
      " 5953753 4937526 2408199 3347767 2371202 3426169 4816715 4590423 1904842\n",
      " 2234634 2358644]\n"
     ]
    }
   ],
   "source": [
    "print(y_test)"
   ]
  },
  {
   "cell_type": "code",
   "execution_count": 16,
   "metadata": {},
   "outputs": [
    {
     "data": {
      "text/html": [
       "<style>#sk-container-id-1 {color: black;}#sk-container-id-1 pre{padding: 0;}#sk-container-id-1 div.sk-toggleable {background-color: white;}#sk-container-id-1 label.sk-toggleable__label {cursor: pointer;display: block;width: 100%;margin-bottom: 0;padding: 0.3em;box-sizing: border-box;text-align: center;}#sk-container-id-1 label.sk-toggleable__label-arrow:before {content: \"▸\";float: left;margin-right: 0.25em;color: #696969;}#sk-container-id-1 label.sk-toggleable__label-arrow:hover:before {color: black;}#sk-container-id-1 div.sk-estimator:hover label.sk-toggleable__label-arrow:before {color: black;}#sk-container-id-1 div.sk-toggleable__content {max-height: 0;max-width: 0;overflow: hidden;text-align: left;background-color: #f0f8ff;}#sk-container-id-1 div.sk-toggleable__content pre {margin: 0.2em;color: black;border-radius: 0.25em;background-color: #f0f8ff;}#sk-container-id-1 input.sk-toggleable__control:checked~div.sk-toggleable__content {max-height: 200px;max-width: 100%;overflow: auto;}#sk-container-id-1 input.sk-toggleable__control:checked~label.sk-toggleable__label-arrow:before {content: \"▾\";}#sk-container-id-1 div.sk-estimator input.sk-toggleable__control:checked~label.sk-toggleable__label {background-color: #d4ebff;}#sk-container-id-1 div.sk-label input.sk-toggleable__control:checked~label.sk-toggleable__label {background-color: #d4ebff;}#sk-container-id-1 input.sk-hidden--visually {border: 0;clip: rect(1px 1px 1px 1px);clip: rect(1px, 1px, 1px, 1px);height: 1px;margin: -1px;overflow: hidden;padding: 0;position: absolute;width: 1px;}#sk-container-id-1 div.sk-estimator {font-family: monospace;background-color: #f0f8ff;border: 1px dotted black;border-radius: 0.25em;box-sizing: border-box;margin-bottom: 0.5em;}#sk-container-id-1 div.sk-estimator:hover {background-color: #d4ebff;}#sk-container-id-1 div.sk-parallel-item::after {content: \"\";width: 100%;border-bottom: 1px solid gray;flex-grow: 1;}#sk-container-id-1 div.sk-label:hover label.sk-toggleable__label {background-color: #d4ebff;}#sk-container-id-1 div.sk-serial::before {content: \"\";position: absolute;border-left: 1px solid gray;box-sizing: border-box;top: 0;bottom: 0;left: 50%;z-index: 0;}#sk-container-id-1 div.sk-serial {display: flex;flex-direction: column;align-items: center;background-color: white;padding-right: 0.2em;padding-left: 0.2em;position: relative;}#sk-container-id-1 div.sk-item {position: relative;z-index: 1;}#sk-container-id-1 div.sk-parallel {display: flex;align-items: stretch;justify-content: center;background-color: white;position: relative;}#sk-container-id-1 div.sk-item::before, #sk-container-id-1 div.sk-parallel-item::before {content: \"\";position: absolute;border-left: 1px solid gray;box-sizing: border-box;top: 0;bottom: 0;left: 50%;z-index: -1;}#sk-container-id-1 div.sk-parallel-item {display: flex;flex-direction: column;z-index: 1;position: relative;background-color: white;}#sk-container-id-1 div.sk-parallel-item:first-child::after {align-self: flex-end;width: 50%;}#sk-container-id-1 div.sk-parallel-item:last-child::after {align-self: flex-start;width: 50%;}#sk-container-id-1 div.sk-parallel-item:only-child::after {width: 0;}#sk-container-id-1 div.sk-dashed-wrapped {border: 1px dashed gray;margin: 0 0.4em 0.5em 0.4em;box-sizing: border-box;padding-bottom: 0.4em;background-color: white;}#sk-container-id-1 div.sk-label label {font-family: monospace;font-weight: bold;display: inline-block;line-height: 1.2em;}#sk-container-id-1 div.sk-label-container {text-align: center;}#sk-container-id-1 div.sk-container {/* jupyter's `normalize.less` sets `[hidden] { display: none; }` but bootstrap.min.css set `[hidden] { display: none !important; }` so we also need the `!important` here to be able to override the default hidden behavior on the sphinx rendered scikit-learn.org. See: https://github.com/scikit-learn/scikit-learn/issues/21755 */display: inline-block !important;position: relative;}#sk-container-id-1 div.sk-text-repr-fallback {display: none;}</style><div id=\"sk-container-id-1\" class=\"sk-top-container\"><div class=\"sk-text-repr-fallback\"><pre>LinearRegression()</pre><b>In a Jupyter environment, please rerun this cell to show the HTML representation or trust the notebook. <br />On GitHub, the HTML representation is unable to render, please try loading this page with nbviewer.org.</b></div><div class=\"sk-container\" hidden><div class=\"sk-item\"><div class=\"sk-estimator sk-toggleable\"><input class=\"sk-toggleable__control sk-hidden--visually\" id=\"sk-estimator-id-1\" type=\"checkbox\" checked><label for=\"sk-estimator-id-1\" class=\"sk-toggleable__label sk-toggleable__label-arrow\">LinearRegression</label><div class=\"sk-toggleable__content\"><pre>LinearRegression()</pre></div></div></div></div></div>"
      ],
      "text/plain": [
       "LinearRegression()"
      ]
     },
     "execution_count": 16,
     "metadata": {},
     "output_type": "execute_result"
    }
   ],
   "source": [
    "from sklearn.linear_model import LinearRegression\n",
    "regressor=LinearRegression()\n",
    "regressor.fit(x_train,y_train)"
   ]
  },
  {
   "cell_type": "code",
   "execution_count": 17,
   "metadata": {},
   "outputs": [],
   "source": [
    "y_pred=regressor.predict(x_test)"
   ]
  },
  {
   "cell_type": "code",
   "execution_count": 18,
   "metadata": {},
   "outputs": [
    {
     "data": {
      "text/plain": [
       "array([6351103.23642516, 5984998.65773576, 4032440.90472562,\n",
       "       3788371.18559936, 4276510.62385189, 3910406.04516249,\n",
       "       4032440.90472562, 3666336.32603622, 3788371.18559936,\n",
       "       6107033.5172989 , 5740928.93860949, 2934127.16865742,\n",
       "       3178196.88778369, 2079883.15171548, 3422266.60690995,\n",
       "       4520580.34297816, 4642615.20254129, 1469708.85389981,\n",
       "       1347673.99433668, 1713778.57302608])"
      ]
     },
     "execution_count": 18,
     "metadata": {},
     "output_type": "execute_result"
    }
   ],
   "source": [
    "y_pred"
   ]
  },
  {
   "cell_type": "code",
   "execution_count": 19,
   "metadata": {},
   "outputs": [
    {
     "data": {
      "text/plain": [
       "Text(0, 0.5, 'Revenue')"
      ]
     },
     "execution_count": 19,
     "metadata": {},
     "output_type": "execute_result"
    },
    {
     "data": {
      "image/png": "[encoded data removed]",
      "text/plain": [
       "<Figure size 432x288 with 1 Axes>"
      ]
     },
     "metadata": {
      "needs_background": "light"
     },
     "output_type": "display_data"
    }
   ],
   "source": [
    "plt.scatter(x_train,y_train,color=\"blue\")\n",
    "plt.plot(x_train,regressor.predict(x_train),color=\"green\")\n",
    "plt.title(\"Revenue vs orders\")\n",
    "plt.xlabel(\"orders\")\n",
    "plt.ylabel(\"Revenue\")"
   ]
  },
  {
   "cell_type": "code",
   "execution_count": 20,
   "metadata": {},
   "outputs": [
    {
     "data": {
      "text/plain": [
       "Text(0, 0.5, 'Revenue')"
      ]
     },
     "execution_count": 20,
     "metadata": {},
     "output_type": "execute_result"
    },
    {
     "data": {
      "image/png": "[encoded data removed]",
      "text/plain": [
       "<Figure size 432x288 with 1 Axes>"
      ]
     },
     "metadata": {
      "needs_background": "light"
     },
     "output_type": "display_data"
    }
   ],
   "source": [
    "plt.scatter(x_test,y_test,color=\"blue\")\n",
    "plt.plot(x_train,regressor.predict(x_train),color=\"green\")\n",
    "plt.title(\"Revenue vs orders\")\n",
    "plt.xlabel(\"orders\")\n",
    "plt.ylabel(\"Revenue\")"
   ]
  },
  {
   "cell_type": "code",
   "execution_count": 21,
   "metadata": {},
   "outputs": [],
   "source": [
    "from sklearn.metrics import r2_score"
   ]
  },
  {
   "cell_type": "code",
   "execution_count": 22,
   "metadata": {},
   "outputs": [],
   "source": [
    "score=r2_score(y_pred,y_test)"
   ]
  },
  {
   "cell_type": "code",
   "execution_count": 23,
   "metadata": {},
   "outputs": [
    {
     "data": {
      "text/plain": [
       "0.9109612329066814"
      ]
     },
     "execution_count": 23,
     "metadata": {},
     "output_type": "execute_result"
    }
   ],
   "source": [
    "score"
   ]
  },
  {
   "cell_type": "code",
   "execution_count": null,
   "metadata": {},
   "outputs": [],
   "source": []
  }
 ],
 "metadata": {
  "kernelspec": {
   "display_name": "Python 3",
   "language": "python",
   "name": "python3"
  },
  "language_info": {
   "codemirror_mode": {
    "name": "ipython",
    "version": 3
   },
   "file_extension": ".py",
   "mimetype": "text/x-python",
   "name": "python",
   "nbconvert_exporter": "python",
   "pygments_lexer": "ipython3",
   "version": "3.8.3"
  }
 },
 "nbformat": 4,
 "nbformat_minor": 4
}
